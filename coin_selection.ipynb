{
 "cells": [
  {
   "cell_type": "markdown",
   "id": "747eec31-3a0d-4c33-9eff-5412734129dc",
   "metadata": {},
   "source": [
    "# Load rankings and categories"
   ]
  },
  {
   "cell_type": "code",
   "execution_count": 1,
   "id": "8e89eec6-d478-4a1f-ab0d-dad329d77211",
   "metadata": {},
   "outputs": [],
   "source": [
    "import numpy as np\n",
    "import pandas as pd\n",
    "from pandas.io.json import json_normalize\n",
    "import matplotlib\n",
    "import matplotlib.pyplot as plt\n",
    "%matplotlib inline\n",
    "import seaborn as sns\n",
    "import json,os,pdb\n",
    "import tqdm\n",
    "import warnings"
   ]
  },
  {
   "cell_type": "markdown",
   "id": "528cc0d8-a9ab-44ae-b956-ca8a546b9d2a",
   "metadata": {},
   "source": [
    "# Choose the universe\n",
    "\n",
    "Select the number of coins to consider. Right now we are still using a market cap criteria"
   ]
  },
  {
   "cell_type": "code",
   "execution_count": 2,
   "id": "c6f9e899-5ade-4824-86eb-8799cf2c8bdb",
   "metadata": {},
   "outputs": [],
   "source": [
    "N = 50"
   ]
  },
  {
   "cell_type": "markdown",
   "id": "268988ca-a8f1-481e-a3a3-b96ee4b3562b",
   "metadata": {},
   "source": [
    "# Load data\n"
   ]
  },
  {
   "cell_type": "code",
   "execution_count": 4,
   "id": "e2b628f3-10d5-4869-a54a-16e3a266db04",
   "metadata": {},
   "outputs": [],
   "source": [
    "df = pd.read_parquet('output/panels/daily_20221004.parquet.gzip') # modify the path according to your needs\n",
    "df.columns = [c.split('.')[-1].replace('_','') for c in df.columns]\n",
    "df.index = df.index.set_levels([df.index.levels[0], pd.to_datetime(df.index.levels[1])])"
   ]
  },
  {
   "cell_type": "markdown",
   "id": "758f715d-ff91-47f7-8045-f031a21ab48b",
   "metadata": {},
   "source": [
    "Load the listing file and check for the rankings"
   ]
  },
  {
   "cell_type": "code",
   "execution_count": 6,
   "id": "fc5bb3ff-ea11-4cf4-901d-16826dc6d94b",
   "metadata": {},
   "outputs": [],
   "source": [
    "with open('output/listingmaps/listing_map_20221004.json',encoding='utf-8') as json_data:\n",
    "    data = json.load(json_data)\n",
    "listmap = pd.DataFrame(data['data'])\n",
    "listmap.sort_values('cmc_rank',inplace=True)\n",
    "listmap.set_index('cmc_rank',inplace=True)\n",
    "listmap['symbol_id'] = listmap['symbol']+ '_'+ listmap['id'].astype(str)"
   ]
  },
  {
   "cell_type": "markdown",
   "id": "a2901e29-8ed5-4b32-bbf2-d3244a534df2",
   "metadata": {},
   "source": [
    "# Filter by the universe\n",
    "Select only the symbols that interest you. According to our previous choice of N, in this case we are filtering for the top 50 by market cap"
   ]
  },
  {
   "cell_type": "code",
   "execution_count": 7,
   "id": "4079ee72-9151-4cb4-9cb1-ccf4fc6b25ab",
   "metadata": {},
   "outputs": [],
   "source": [
    "symbols = list(listmap.loc[:N,'symbol_id'].values)"
   ]
  },
  {
   "cell_type": "markdown",
   "id": "4e83cd31-d489-46f1-b004-e9cd1f5de285",
   "metadata": {},
   "source": [
    "Remove stablecoins by using the category JSON (available in sakai as the listing file)"
   ]
  },
  {
   "cell_type": "code",
   "execution_count": 7,
   "id": "83047702-6ec2-4735-995a-22bb8b471547",
   "metadata": {},
   "outputs": [],
   "source": [
    "with open('output/categories/category_stablecoin.json',encoding='utf-8') as json_data:\n",
    "    data = json.load(json_data)\n",
    "stable_df = pd.json_normalize(data['data']['coins'],max_level=5)\n",
    "stable_df['symbol_id'] = stable_df['symbol'] + '_' + stable_df['id'].astype(str)\n",
    "stablecoins = list(stable_df['symbol_id'].values)"
   ]
  },
  {
   "cell_type": "code",
   "execution_count": 8,
   "id": "ec0b4b6b-4cec-4727-81da-557e29ab9645",
   "metadata": {},
   "outputs": [],
   "source": [
    "# get the top 200 by mkt cap\n",
    "symbols = set(listmap.loc[:N,'symbol_id'].values) - set(stablecoins)\n",
    "\n",
    "for l in stablecoins:\n",
    "    if l in symbols:\n",
    "        print('Stablecoins in the list!')"
   ]
  },
  {
   "cell_type": "code",
   "execution_count": null,
   "id": "00261c32-ff47-4552-936f-185c02c80379",
   "metadata": {},
   "outputs": [],
   "source": []
  },
  {
   "cell_type": "code",
   "execution_count": null,
   "id": "26f733dd-7320-428a-b6d6-724e03eb821b",
   "metadata": {},
   "outputs": [],
   "source": []
  },
  {
   "cell_type": "code",
   "execution_count": null,
   "id": "f88df28f-4403-46a5-9eb6-da2d68357914",
   "metadata": {},
   "outputs": [],
   "source": []
  },
  {
   "cell_type": "code",
   "execution_count": null,
   "id": "297c391e-62e5-49c5-a791-562f629443b8",
   "metadata": {},
   "outputs": [],
   "source": []
  },
  {
   "cell_type": "code",
   "execution_count": null,
   "id": "69ec6ca1-2272-48a8-aa38-71915d6d14e7",
   "metadata": {},
   "outputs": [],
   "source": []
  },
  {
   "cell_type": "code",
   "execution_count": null,
   "id": "63764400-e43d-4ec8-8af6-7b8c3fc537cd",
   "metadata": {},
   "outputs": [],
   "source": []
  },
  {
   "cell_type": "code",
   "execution_count": null,
   "id": "d91132b9-26a6-44e7-acf2-f4ec7dda728b",
   "metadata": {},
   "outputs": [],
   "source": []
  },
  {
   "cell_type": "code",
   "execution_count": null,
   "id": "4482960f-7f70-40b4-9eb4-5e8baf0ff6f7",
   "metadata": {},
   "outputs": [],
   "source": []
  },
  {
   "cell_type": "code",
   "execution_count": null,
   "id": "a3fd05c6-4bc1-4c21-a19d-3667d20c4b0c",
   "metadata": {},
   "outputs": [],
   "source": []
  },
  {
   "cell_type": "code",
   "execution_count": null,
   "id": "67a061b6-5704-4f22-a0af-e3e8ef804d5c",
   "metadata": {},
   "outputs": [],
   "source": []
  },
  {
   "cell_type": "code",
   "execution_count": null,
   "id": "25b33083-a1fc-43c1-abf5-8d33483903e7",
   "metadata": {},
   "outputs": [],
   "source": []
  },
  {
   "cell_type": "code",
   "execution_count": null,
   "id": "369736aa-45a8-4a13-b0ab-25b8bbc48c27",
   "metadata": {},
   "outputs": [],
   "source": []
  }
 ],
 "metadata": {
  "kernelspec": {
   "display_name": "Python 3 (ipykernel)",
   "language": "python",
   "name": "python3"
  },
  "language_info": {
   "codemirror_mode": {
    "name": "ipython",
    "version": 3
   },
   "file_extension": ".py",
   "mimetype": "text/x-python",
   "name": "python",
   "nbconvert_exporter": "python",
   "pygments_lexer": "ipython3",
   "version": "3.9.7"
  }
 },
 "nbformat": 4,
 "nbformat_minor": 5
}
